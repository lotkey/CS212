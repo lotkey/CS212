{
 "cells": [
  {
   "cell_type": "code",
   "execution_count": 11,
   "metadata": {},
   "outputs": [],
   "source": [
    "import math\n",
    "import random\n"
   ]
  },
  {
   "cell_type": "code",
   "execution_count": 12,
   "metadata": {},
   "outputs": [],
   "source": [
    "def archimedes(num_sides: int = 1000) -> float:\n",
    "    a = 360 / (num_sides * 2)\n",
    "    half_s = math.sin(math.radians(a))\n",
    "    cir = half_s * 2 * num_sides\n",
    "    return cir / 2\n"
   ]
  },
  {
   "cell_type": "code",
   "execution_count": 16,
   "metadata": {},
   "outputs": [],
   "source": [
    "def liebniz(cycles: int = 100000) -> float:\n",
    "    sum = 0\n",
    "    for i in range(1, cycles, 2):\n",
    "        if (i + 1) % 4 == 0:\n",
    "            sum -= 1 / i\n",
    "        else:\n",
    "            sum += 1 / i\n",
    "    return sum * 4\n"
   ]
  },
  {
   "cell_type": "code",
   "execution_count": 26,
   "metadata": {},
   "outputs": [],
   "source": [
    "def monte_carlo(cycles: int = 1000000) -> float:\n",
    "    circle_points = 0\n",
    "    square_points = 0\n",
    "\n",
    "    for i in range(cycles):\n",
    "        if (random.random() ** 2 + random.random() ** 2) <= 1:\n",
    "            circle_points += 1\n",
    "\n",
    "        square_points += 1\n",
    "    return (4 * circle_points) / square_points\n"
   ]
  },
  {
   "cell_type": "code",
   "execution_count": 33,
   "metadata": {},
   "outputs": [],
   "source": [
    "def accuracy(actual_value:float, expected_value:float) -> float:\n",
    "    return 1.0 - (abs(actual_value - expected_value) / expected_value)"
   ]
  },
  {
   "cell_type": "code",
   "execution_count": 36,
   "metadata": {},
   "outputs": [
    {
     "name": "stdout",
     "output_type": "stream",
     "text": [
      "Cycles: 10000\n",
      "  Archimedes:\n",
      "    Esimation: 3.141592601912665\n",
      "    Accuracy: 100.0%\n",
      "  Leibniz:\n",
      "    Esimation: 3.141392653591791\n",
      "    Accuracy: 99.994%\n",
      "  Monte Carlo:\n",
      "    Esimation: 3.1408\n",
      "    Accuracy: 99.97500000000001%\n",
      "Cycles: 100000\n",
      "  Archimedes:\n",
      "    Esimation: 3.1415926530730216\n",
      "    Accuracy: 100.0%\n",
      "  Leibniz:\n",
      "    Esimation: 3.1415726535897814\n",
      "    Accuracy: 99.99900000000001%\n",
      "  Monte Carlo:\n",
      "    Esimation: 3.13952\n",
      "    Accuracy: 99.934%\n",
      "Cycles: 1000000\n",
      "  Archimedes:\n",
      "    Esimation: 3.1415926535846257\n",
      "    Accuracy: 100.0%\n",
      "  Leibniz:\n",
      "    Esimation: 3.141590653589692\n",
      "    Accuracy: 100.0%\n",
      "  Monte Carlo:\n",
      "    Esimation: 3.145296\n",
      "    Accuracy: 99.882%\n"
     ]
    }
   ],
   "source": [
    "for cycles in [10000, 100000, 1000000]:\n",
    "    arch = archimedes(cycles)\n",
    "    acc_arch = accuracy(arch, math.pi)\n",
    "    leib = liebniz(cycles)\n",
    "    acc_leib = accuracy(leib, math.pi)\n",
    "    monte = monte_carlo(cycles)\n",
    "    acc_monte = accuracy(monte, math.pi)\n",
    "\n",
    "    print(f\"Cycles: {cycles}\")\n",
    "    print(\"  Archimedes:\")\n",
    "    print(f\"    Estimation: {arch}\")\n",
    "    print(f\"    Accuracy: {acc_arch * 100}%\")\n",
    "    print(\"  Leibniz:\")\n",
    "    print(f\"    Estimation: {leib}\")\n",
    "    print(f\"    Accuracy: {acc_leib * 100}%\")\n",
    "    print(\"  Monte Carlo:\")\n",
    "    print(f\"    Estimation: {monte}\")\n",
    "    print(f\"    Accuracy: {acc_monte * 100}%\")\n"
   ]
  }
 ],
 "metadata": {
  "kernelspec": {
   "display_name": "Python 3.8.8 ('base')",
   "language": "python",
   "name": "python3"
  },
  "language_info": {
   "codemirror_mode": {
    "name": "ipython",
    "version": 3
   },
   "file_extension": ".py",
   "mimetype": "text/x-python",
   "name": "python",
   "nbconvert_exporter": "python",
   "pygments_lexer": "ipython3",
   "version": "3.8.8"
  },
  "orig_nbformat": 4,
  "vscode": {
   "interpreter": {
    "hash": "df3f64ca5e16a52414df56f6fd8e5b33b60cd9e67139926ade6a9b44fe3fa7c2"
   }
  }
 },
 "nbformat": 4,
 "nbformat_minor": 2
}
